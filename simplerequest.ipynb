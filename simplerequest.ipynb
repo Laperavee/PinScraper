{
 "cells": [
  {
   "cell_type": "code",
   "execution_count": 38,
   "metadata": {
    "collapsed": true
   },
   "outputs": [],
   "source": [
    "import requests\n",
    "from bs4 import BeautifulSoup as Bs\n",
    "from selenium import webdriver\n",
    "from time import sleep\n",
    "import os\n",
    "import json"
   ]
  },
  {
   "cell_type": "code",
   "execution_count": 39,
   "outputs": [
    {
     "name": "stdout",
     "output_type": "stream",
     "text": [
      "['luxury cars', 'luxury lifestyle', 'old rich', 'rich aesthetic', 'rich vibes', 'rich cars', 'rich sports', 'dream house']\n"
     ]
    }
   ],
   "source": [
    "file_path = os.path.join(os.getcwd(), \"lists.json\")\n",
    "with open(file_path) as file:\n",
    "    data: dict = json.load(file)\n",
    "print(data[\"words\"])"
   ],
   "metadata": {
    "collapsed": false
   }
  },
  {
   "cell_type": "code",
   "execution_count": 40,
   "outputs": [
    {
     "name": "stdout",
     "output_type": "stream",
     "text": [
      "Le dossier 'Cars' existe déjà.\n"
     ]
    }
   ],
   "source": [
    "largest_file = \"\"\n",
    "largest_number = -1\n",
    "folder_path = os.path.join(os.getcwd(), \"images\")\n",
    "nom_dossier = \"Cars\"\n",
    "nom_complet = str(folder_path)+\"/\"+str(nom_dossier)\n",
    "if not os.path.exists(nom_complet):\n",
    "    os.mkdir(f'{folder_path}/{nom_dossier}')\n",
    "    print(f\"Le dossier '{nom_dossier}' a été créé avec succès.\")\n",
    "else:\n",
    "    print(f\"Le dossier '{nom_dossier}' existe déjà.\")"
   ],
   "metadata": {
    "collapsed": false
   }
  },
  {
   "cell_type": "code",
   "execution_count": null,
   "outputs": [
    {
     "name": "stdout",
     "output_type": "stream",
     "text": [
      "luxury cars\n",
      "Ceci n'est pas un URL valide\n",
      "Ceci n'est pas un URL valide\n",
      "Ceci n'est pas un URL valide\n",
      "Ceci n'est pas un URL valide\n",
      "Ceci n'est pas un URL valide\n",
      "Ceci n'est pas un URL valide\n",
      "luxury lifestyle\n"
     ]
    },
    {
     "name": "stderr",
     "output_type": "stream",
     "text": [
      "Exception ignored in: <function Service.__del__ at 0x0000011D6103DA60>\n",
      "Traceback (most recent call last):\n",
      "  File \"C:\\Users\\ASUS\\AppData\\Local\\Programs\\Python\\Python39\\lib\\site-packages\\selenium\\webdriver\\common\\service.py\", line 181, in __del__\n",
      "    self.stop()\n",
      "  File \"C:\\Users\\ASUS\\AppData\\Local\\Programs\\Python\\Python39\\lib\\site-packages\\selenium\\webdriver\\common\\service.py\", line 142, in stop\n",
      "    self.send_remote_shutdown_command()\n",
      "  File \"C:\\Users\\ASUS\\AppData\\Local\\Programs\\Python\\Python39\\lib\\site-packages\\selenium\\webdriver\\common\\service.py\", line 121, in send_remote_shutdown_command\n",
      "    request.urlopen(f\"{self.service_url}/shutdown\")\n",
      "  File \"C:\\Users\\ASUS\\AppData\\Local\\Programs\\Python\\Python39\\lib\\urllib\\request.py\", line 214, in urlopen\n",
      "    return opener.open(url, data, timeout)\n",
      "  File \"C:\\Users\\ASUS\\AppData\\Local\\Programs\\Python\\Python39\\lib\\urllib\\request.py\", line 517, in open\n",
      "    response = self._open(req, data)\n",
      "  File \"C:\\Users\\ASUS\\AppData\\Local\\Programs\\Python\\Python39\\lib\\urllib\\request.py\", line 534, in _open\n",
      "    result = self._call_chain(self.handle_open, protocol, protocol +\n",
      "  File \"C:\\Users\\ASUS\\AppData\\Local\\Programs\\Python\\Python39\\lib\\urllib\\request.py\", line 494, in _call_chain\n",
      "    result = func(*args)\n",
      "  File \"C:\\Users\\ASUS\\AppData\\Local\\Programs\\Python\\Python39\\lib\\urllib\\request.py\", line 1371, in http_open\n",
      "    return self.do_open(http.client.HTTPConnection, req)\n",
      "  File \"C:\\Users\\ASUS\\AppData\\Local\\Programs\\Python\\Python39\\lib\\urllib\\request.py\", line 1342, in do_open\n",
      "    h.request(req.get_method(), req.selector, req.data, headers,\n",
      "  File \"C:\\Users\\ASUS\\AppData\\Local\\Programs\\Python\\Python39\\lib\\http\\client.py\", line 1255, in request\n",
      "    self._send_request(method, url, body, headers, encode_chunked)\n",
      "  File \"C:\\Users\\ASUS\\AppData\\Local\\Programs\\Python\\Python39\\lib\\http\\client.py\", line 1301, in _send_request\n",
      "    self.endheaders(body, encode_chunked=encode_chunked)\n",
      "  File \"C:\\Users\\ASUS\\AppData\\Local\\Programs\\Python\\Python39\\lib\\http\\client.py\", line 1250, in endheaders\n",
      "    self._send_output(message_body, encode_chunked=encode_chunked)\n",
      "  File \"C:\\Users\\ASUS\\AppData\\Local\\Programs\\Python\\Python39\\lib\\http\\client.py\", line 1010, in _send_output\n",
      "    self.send(msg)\n",
      "  File \"C:\\Users\\ASUS\\AppData\\Local\\Programs\\Python\\Python39\\lib\\http\\client.py\", line 950, in send\n",
      "    self.connect()\n",
      "  File \"C:\\Users\\ASUS\\AppData\\Local\\Programs\\Python\\Python39\\lib\\http\\client.py\", line 921, in connect\n",
      "    self.sock = self._create_connection(\n",
      "  File \"C:\\Users\\ASUS\\AppData\\Local\\Programs\\Python\\Python39\\lib\\socket.py\", line 831, in create_connection\n",
      "    sock.connect(sa)\n",
      "KeyboardInterrupt: \n"
     ]
    },
    {
     "ename": "NoSuchWindowException",
     "evalue": "Message: no such window: target window already closed\nfrom unknown error: web view not found\n  (Session info: chrome=114.0.5735.199)\nStacktrace:\nBacktrace:\n\tGetHandleVerifier [0x0054A813+48355]\n\t(No symbol) [0x004DC4B1]\n\t(No symbol) [0x003E5358]\n\t(No symbol) [0x003CD293]\n\t(No symbol) [0x0042E37B]\n\t(No symbol) [0x0043C473]\n\t(No symbol) [0x0042A536]\n\t(No symbol) [0x004082DC]\n\t(No symbol) [0x004093DD]\n\tGetHandleVerifier [0x007AAABD+2539405]\n\tGetHandleVerifier [0x007EA78F+2800735]\n\tGetHandleVerifier [0x007E456C+2775612]\n\tGetHandleVerifier [0x005D51E0+616112]\n\t(No symbol) [0x004E5F8C]\n\t(No symbol) [0x004E2328]\n\t(No symbol) [0x004E240B]\n\t(No symbol) [0x004D4FF7]\n\tBaseThreadInitThunk [0x76067D59+25]\n\tRtlInitializeExceptionChain [0x773FB79B+107]\n\tRtlClearBits [0x773FB71F+191]\n",
     "output_type": "error",
     "traceback": [
      "\u001B[1;31m---------------------------------------------------------------------------\u001B[0m",
      "\u001B[1;31mNoSuchWindowException\u001B[0m                     Traceback (most recent call last)",
      "Cell \u001B[1;32mIn[41], line 5\u001B[0m\n\u001B[0;32m      3\u001B[0m driver \u001B[38;5;241m=\u001B[39m webdriver\u001B[38;5;241m.\u001B[39mChrome()\n\u001B[0;32m      4\u001B[0m url \u001B[38;5;241m=\u001B[39m \u001B[38;5;124mf\u001B[39m\u001B[38;5;124m'\u001B[39m\u001B[38;5;124mhttps://www.pinterest.fr/search/pins/?q=\u001B[39m\u001B[38;5;132;01m{\u001B[39;00msubjects\u001B[38;5;132;01m}\u001B[39;00m\u001B[38;5;124m'\u001B[39m\n\u001B[1;32m----> 5\u001B[0m \u001B[43mdriver\u001B[49m\u001B[38;5;241;43m.\u001B[39;49m\u001B[43mget\u001B[49m\u001B[43m(\u001B[49m\u001B[43murl\u001B[49m\u001B[43m)\u001B[49m\n\u001B[0;32m      6\u001B[0m rawlinks \u001B[38;5;241m=\u001B[39m []\n\u001B[0;32m      7\u001B[0m \u001B[38;5;28;01mfor\u001B[39;00m i \u001B[38;5;129;01min\u001B[39;00m \u001B[38;5;28mrange\u001B[39m (\u001B[38;5;241m1\u001B[39m):\n",
      "File \u001B[1;32m~\\AppData\\Local\\Programs\\Python\\Python39\\lib\\site-packages\\selenium\\webdriver\\remote\\webdriver.py:355\u001B[0m, in \u001B[0;36mWebDriver.get\u001B[1;34m(self, url)\u001B[0m\n\u001B[0;32m    353\u001B[0m \u001B[38;5;28;01mdef\u001B[39;00m \u001B[38;5;21mget\u001B[39m(\u001B[38;5;28mself\u001B[39m, url: \u001B[38;5;28mstr\u001B[39m) \u001B[38;5;241m-\u001B[39m\u001B[38;5;241m>\u001B[39m \u001B[38;5;28;01mNone\u001B[39;00m:\n\u001B[0;32m    354\u001B[0m \u001B[38;5;250m    \u001B[39m\u001B[38;5;124;03m\"\"\"Loads a web page in the current browser session.\"\"\"\u001B[39;00m\n\u001B[1;32m--> 355\u001B[0m     \u001B[38;5;28;43mself\u001B[39;49m\u001B[38;5;241;43m.\u001B[39;49m\u001B[43mexecute\u001B[49m\u001B[43m(\u001B[49m\u001B[43mCommand\u001B[49m\u001B[38;5;241;43m.\u001B[39;49m\u001B[43mGET\u001B[49m\u001B[43m,\u001B[49m\u001B[43m \u001B[49m\u001B[43m{\u001B[49m\u001B[38;5;124;43m\"\u001B[39;49m\u001B[38;5;124;43murl\u001B[39;49m\u001B[38;5;124;43m\"\u001B[39;49m\u001B[43m:\u001B[49m\u001B[43m \u001B[49m\u001B[43murl\u001B[49m\u001B[43m}\u001B[49m\u001B[43m)\u001B[49m\n",
      "File \u001B[1;32m~\\AppData\\Local\\Programs\\Python\\Python39\\lib\\site-packages\\selenium\\webdriver\\remote\\webdriver.py:346\u001B[0m, in \u001B[0;36mWebDriver.execute\u001B[1;34m(self, driver_command, params)\u001B[0m\n\u001B[0;32m    344\u001B[0m response \u001B[38;5;241m=\u001B[39m \u001B[38;5;28mself\u001B[39m\u001B[38;5;241m.\u001B[39mcommand_executor\u001B[38;5;241m.\u001B[39mexecute(driver_command, params)\n\u001B[0;32m    345\u001B[0m \u001B[38;5;28;01mif\u001B[39;00m response:\n\u001B[1;32m--> 346\u001B[0m     \u001B[38;5;28;43mself\u001B[39;49m\u001B[38;5;241;43m.\u001B[39;49m\u001B[43merror_handler\u001B[49m\u001B[38;5;241;43m.\u001B[39;49m\u001B[43mcheck_response\u001B[49m\u001B[43m(\u001B[49m\u001B[43mresponse\u001B[49m\u001B[43m)\u001B[49m\n\u001B[0;32m    347\u001B[0m     response[\u001B[38;5;124m\"\u001B[39m\u001B[38;5;124mvalue\u001B[39m\u001B[38;5;124m\"\u001B[39m] \u001B[38;5;241m=\u001B[39m \u001B[38;5;28mself\u001B[39m\u001B[38;5;241m.\u001B[39m_unwrap_value(response\u001B[38;5;241m.\u001B[39mget(\u001B[38;5;124m\"\u001B[39m\u001B[38;5;124mvalue\u001B[39m\u001B[38;5;124m\"\u001B[39m, \u001B[38;5;28;01mNone\u001B[39;00m))\n\u001B[0;32m    348\u001B[0m     \u001B[38;5;28;01mreturn\u001B[39;00m response\n",
      "File \u001B[1;32m~\\AppData\\Local\\Programs\\Python\\Python39\\lib\\site-packages\\selenium\\webdriver\\remote\\errorhandler.py:245\u001B[0m, in \u001B[0;36mErrorHandler.check_response\u001B[1;34m(self, response)\u001B[0m\n\u001B[0;32m    243\u001B[0m         alert_text \u001B[38;5;241m=\u001B[39m value[\u001B[38;5;124m\"\u001B[39m\u001B[38;5;124malert\u001B[39m\u001B[38;5;124m\"\u001B[39m]\u001B[38;5;241m.\u001B[39mget(\u001B[38;5;124m\"\u001B[39m\u001B[38;5;124mtext\u001B[39m\u001B[38;5;124m\"\u001B[39m)\n\u001B[0;32m    244\u001B[0m     \u001B[38;5;28;01mraise\u001B[39;00m exception_class(message, screen, stacktrace, alert_text)  \u001B[38;5;66;03m# type: ignore[call-arg]  # mypy is not smart enough here\u001B[39;00m\n\u001B[1;32m--> 245\u001B[0m \u001B[38;5;28;01mraise\u001B[39;00m exception_class(message, screen, stacktrace)\n",
      "\u001B[1;31mNoSuchWindowException\u001B[0m: Message: no such window: target window already closed\nfrom unknown error: web view not found\n  (Session info: chrome=114.0.5735.199)\nStacktrace:\nBacktrace:\n\tGetHandleVerifier [0x0054A813+48355]\n\t(No symbol) [0x004DC4B1]\n\t(No symbol) [0x003E5358]\n\t(No symbol) [0x003CD293]\n\t(No symbol) [0x0042E37B]\n\t(No symbol) [0x0043C473]\n\t(No symbol) [0x0042A536]\n\t(No symbol) [0x004082DC]\n\t(No symbol) [0x004093DD]\n\tGetHandleVerifier [0x007AAABD+2539405]\n\tGetHandleVerifier [0x007EA78F+2800735]\n\tGetHandleVerifier [0x007E456C+2775612]\n\tGetHandleVerifier [0x005D51E0+616112]\n\t(No symbol) [0x004E5F8C]\n\t(No symbol) [0x004E2328]\n\t(No symbol) [0x004E240B]\n\t(No symbol) [0x004D4FF7]\n\tBaseThreadInitThunk [0x76067D59+25]\n\tRtlInitializeExceptionChain [0x773FB79B+107]\n\tRtlClearBits [0x773FB71F+191]\n"
     ]
    }
   ],
   "source": [
    "for subjects in data[\"words\"]:\n",
    "    print(subjects)\n",
    "    driver = webdriver.Chrome()\n",
    "    url = f'https://www.pinterest.fr/search/pins/?q={subjects}'\n",
    "    driver.get(url)\n",
    "    rawlinks = []\n",
    "    for i in range (1):\n",
    "        driver.execute_script(\"window.scrollTo(0, document.body.scrollHeight);\")\n",
    "        sleep(3)\n",
    "        scroll_height = driver.execute_script(\"return document.body.scrollHeight\")\n",
    "        scroll_position = driver.execute_script(\"return window.pageYOffset + window.innerHeight\")\n",
    "        if scroll_position >= scroll_height:\n",
    "            break\n",
    "        soup = driver.page_source\n",
    "        links = Bs(soup, 'html.parser')\n",
    "        links = links.find_all('a')\n",
    "        for link in links:\n",
    "            rawlinks.append(link)\n",
    "    driver.quit()\n",
    "    linkstab = []\n",
    "    j=0\n",
    "    for link in rawlinks:\n",
    "        link_url = link.get(\"href\")\n",
    "        if \"/pin/\" in link_url:\n",
    "            j+=1\n",
    "            if j%2 == 0:\n",
    "                linkstab.append(link_url)\n",
    "        else:\n",
    "            print(\"Ceci n'est pas un URL valide\")"
   ],
   "metadata": {
    "collapsed": false,
    "pycharm": {
     "is_executing": true
    }
   }
  },
  {
   "cell_type": "code",
   "execution_count": 42,
   "outputs": [
    {
     "name": "stdout",
     "output_type": "stream",
     "text": [
      "L'image n°0 a été téléchargée avec succès.\n",
      "L'image n°1 a été téléchargée avec succès.\n",
      "L'image n°2 a été téléchargée avec succès.\n",
      "L'image n°3 a été téléchargée avec succès.\n",
      "L'image n°4 a été téléchargée avec succès.\n",
      "L'image n°5 a été téléchargée avec succès.\n",
      "L'image n°6 a été téléchargée avec succès.\n"
     ]
    },
    {
     "name": "stderr",
     "output_type": "stream",
     "text": [
      "\n",
      "KeyboardInterrupt\n",
      "\n"
     ]
    }
   ],
   "source": [
    "    i=0\n",
    "    for link in linkstab:\n",
    "        url = f\"https://www.pinterest.fr{link}\"\n",
    "        digits = link[-5:]\n",
    "        digits = digits.replace('/','')\n",
    "        response = requests.get(url)\n",
    "        html = response.text\n",
    "        soup = Bs(html,'html.parser')\n",
    "        img = soup.find('img')\n",
    "        img_url = img.get('src')\n",
    "        try:\n",
    "            linkcreator = soup.find(\"div\", {\"data-test-id\": \"official-user-attribution\"})\n",
    "            acreator = linkcreator.find(\"a\")\n",
    "            creator = acreator.get(\"href\")\n",
    "            creator = creator.replace('/', '')\n",
    "        except:\n",
    "            creator = \"NoUserCreation\"\n",
    "        img_data = requests.get(img_url).content\n",
    "        img_len = len(img_data)\n",
    "        try:\n",
    "            if(img_len>10000):\n",
    "                filename = f'{nom_complet}/{creator}_{digits}.jpg'\n",
    "                with open(filename, 'wb') as file:\n",
    "                    file.write(img_data)\n",
    "                print(f\"L'image n°{i} a été téléchargée avec succès.\")\n",
    "        except:\n",
    "            print(f\"L'image n°{i} n'a pas été téléchargée avec succès.\")\n",
    "        i+=1"
   ],
   "metadata": {
    "collapsed": false
   }
  }
 ],
 "metadata": {
  "kernelspec": {
   "display_name": "Python 3",
   "language": "python",
   "name": "python3"
  },
  "language_info": {
   "codemirror_mode": {
    "name": "ipython",
    "version": 2
   },
   "file_extension": ".py",
   "mimetype": "text/x-python",
   "name": "python",
   "nbconvert_exporter": "python",
   "pygments_lexer": "ipython2",
   "version": "2.7.6"
  }
 },
 "nbformat": 4,
 "nbformat_minor": 0
}
